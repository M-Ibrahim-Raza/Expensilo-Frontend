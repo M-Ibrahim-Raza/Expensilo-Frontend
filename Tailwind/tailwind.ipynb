{
 "cells": [
  {
   "cell_type": "markdown",
   "id": "ca4a5dcb",
   "metadata": {},
   "source": [
    "| **Category**                    | **Utility Class**                          | **Description / Effect**                          |\n",
    "| ------------------------------- | ------------------------------------------ | ------------------------------------------------- |\n",
    "| **Display**                     | `flex`                                     | Enables flexbox layout.                           |\n",
    "|                                 | `inline-flex`                              | Enables flexbox layout inline.                    |\n",
    "| **Flex Direction**              | `flex-row`                                 | Arrange items horizontally (default).             |\n",
    "|                                 | `flex-row-reverse`                         | Arrange items horizontally in reverse order.      |\n",
    "|                                 | `flex-col`                                 | Arrange items vertically.                         |\n",
    "|                                 | `flex-col-reverse`                         | Arrange items vertically in reverse order.        |\n",
    "| **Flex Wrap**                   | `flex-wrap`                                | Allow items to wrap onto multiple lines.          |\n",
    "|                                 | `flex-wrap-reverse`                        | Wrap items in reverse order.                      |\n",
    "|                                 | `flex-nowrap`                              | Prevent items from wrapping (default).            |\n",
    "| **Justify Content (main axis)** | `justify-start`                            | Align items to the start.                         |\n",
    "|                                 | `justify-center`                           | Center items horizontally.                        |\n",
    "|                                 | `justify-end`                              | Align items to the end.                           |\n",
    "|                                 | `justify-between`                          | Space items evenly with gaps between.             |\n",
    "|                                 | `justify-around`                           | Space items with equal gaps around them.          |\n",
    "|                                 | `justify-evenly`                           | Distribute items evenly (equal spacing).          |\n",
    "| **Align Items (cross axis)**    | `items-start`                              | Align items to the start vertically.              |\n",
    "|                                 | `items-center`                             | Center items vertically.                          |\n",
    "|                                 | `items-end`                                | Align items to the bottom vertically.             |\n",
    "|                                 | `items-baseline`                           | Align items along their text baseline.            |\n",
    "|                                 | `items-stretch`                            | Stretch items to fill container height (default). |\n",
    "| **Align Self (per item)**       | `self-auto`                                | Default alignment.                                |\n",
    "|                                 | `self-start`                               | Align this item to the start.                     |\n",
    "|                                 | `self-center`                              | Center this item vertically.                      |\n",
    "|                                 | `self-end`                                 | Align this item to the end.                       |\n",
    "|                                 | `self-stretch`                             | Stretch this item to fill available height.       |\n",
    "| **Align Content (multi-line)**  | `content-start`                            | Align wrapped rows to the start.                  |\n",
    "|                                 | `content-center`                           | Center wrapped rows.                              |\n",
    "|                                 | `content-end`                              | Align wrapped rows to the end.                    |\n",
    "|                                 | `content-between`                          | Even spacing between wrapped rows.                |\n",
    "|                                 | `content-around`                           | Equal spacing around wrapped rows.                |\n",
    "|                                 | `content-evenly`                           | Evenly distribute wrapped rows.                   |\n",
    "| **Flex Grow**                   | `grow`                                     | Allow item to grow and fill available space.      |\n",
    "|                                 | `grow-0`                                   | Prevent item from growing.                        |\n",
    "| **Flex Shrink**                 | `shrink`                                   | Allow item to shrink if needed.                   |\n",
    "|                                 | `shrink-0`                                 | Prevent item from shrinking.                      |\n",
    "| **Flex Basis**                  | `basis-auto`                               | Use the item’s content size (default).            |\n",
    "|                                 | `basis-0`, `basis-1/2`, `basis-full`, etc. | Set flex-basis explicitly.                        |\n",
    "| **Order**                       | `order-1`, `order-2`, … `order-12`         | Set order of items.                               |\n",
    "|                                 | `order-first`                              | Move item to start.                               |\n",
    "|                                 | `order-last`                               | Move item to end.                                 |\n",
    "|                                 | `order-none`                               | Default order.                                    |\n",
    "| **Gap Between Items**           | `gap-0`, `gap-1`, `gap-2`, …               | Add consistent spacing between flex children.     |\n",
    "|                                 | `gap-x-4`, `gap-y-2`                       | Set horizontal or vertical gaps individually.     |\n"
   ]
  },
  {
   "cell_type": "markdown",
   "id": "56fe08dd",
   "metadata": {},
   "source": []
  }
 ],
 "metadata": {
  "language_info": {
   "name": "python"
  }
 },
 "nbformat": 4,
 "nbformat_minor": 5
}
